{
 "cells": [
  {
   "cell_type": "markdown",
   "id": "16fa1e1c",
   "metadata": {},
   "source": [
    "# EXPLORE Data Science Academy Classification Hackathon\n",
    "\n",
    "© Explore Data Science Academy\n",
    "\n",
    "---\n",
    "### Honour Code\n",
    "\n",
    "I {**Caleb, Tanko**}, confirm - by submitting this document - that the solutions in this notebook are a result of my own work and that I abide by the [EDSA honour code](https://drive.google.com/file/d/1QDCjGZJ8-FmJE3bZdIQNwnJyQKPhHZBn/view?usp=sharing).\n",
    "\n",
    "Non-compliance with the honour code constitutes a material breach of contract.\n",
    "\n",
    "### Hackathon Overview: South African Language Identification\n",
    "\n",
    "<!-- South Africa is a multicultural society that is characterised by its rich linguistic diversity. Language is an indispensable tool that can be used to deepen democracy and also contribute to the social, cultural, intellectual, economic and political life of the South African society.\n",
    "\n",
    "The country is multilingual with 11 official languages, each of which is guaranteed equal status. Most South Africans are multilingual and able to speak at least two or more of the official languages.\n",
    "From South African Government\n",
    "\n",
    "\n",
    "\n",
    "With such a multilingual population, it is only obvious that our systems and devices also communicate in multi-languages.\n",
    "\n",
    "In this challenge, you will take text which is in any of South Africa's 11 Official languages and identify which language the text is in. This is an example of NLP's Language Identification, the task of determining the natural language that a piece of text is written in.  -->"
   ]
  },
  {
   "cell_type": "markdown",
   "id": "a806a830",
   "metadata": {},
   "source": [
    "<a id=\"cont\"></a>\n",
    "\n",
    "## Table of Contents\n",
    "\n",
    "<a href=#one>1. Importing Packages</a>\n",
    "\n",
    "<a href=#two>2. Loading Data</a>\n",
    "\n",
    "<a href=#three>3. Exploratory Data Analysis (EDA)</a>\n",
    "\n",
    "<a href=#four>4. Data Engineering</a>\n",
    "\n",
    "<a href=#five>5. Modeling</a>"
   ]
  },
  {
   "cell_type": "markdown",
   "id": "733f3ad5",
   "metadata": {},
   "source": [
    " <a id=\"one\"></a>\n",
    "## 1. Importing Packages\n",
    "<a href=#cont>Back to Table of Contents</a>\n",
    "\n",
    "---\n",
    "    \n",
    "| ⚡ Description: Importing Packages ⚡ |\n",
    "| :--------------------------- |\n",
    "| In this section all the libraries that will be used throughout your analysis and modelling is imported. |\n",
    "\n",
    "---"
   ]
  },
  {
   "cell_type": "code",
   "execution_count": 65,
   "id": "e8f1edfd",
   "metadata": {},
   "outputs": [],
   "source": [
    "# Libraries for data loading, data manipulation and data visulisation\n",
    "import matplotlib.pyplot as plt\n",
    "%matplotlib inline\n",
    "import seaborn as sns\n",
    "\n",
    "\n",
    "# utilities\n",
    "import numpy as np\n",
    "import pandas as pd\n",
    "import re\n",
    "\n",
    "# nltk\n",
    "from nltk.stem import WordNetLemmatizer\n",
    "from nltk.corpus import stopwords\n",
    "from nltk.tokenize import TreebankWordTokenizer\n",
    "\n",
    "# sklearn\n",
    "from sklearn.model_selection import GridSearchCV\n",
    "from sklearn import svm\n",
    "from sklearn.svm import LinearSVC\n",
    "from sklearn.naive_bayes import BernoulliNB\n",
    "from sklearn.model_selection import train_test_split\n",
    "from sklearn.feature_extraction.text import TfidfVectorizer\n",
    "from sklearn.metrics import confusion_matrix, classification_report\n",
    "\n",
    "\n",
    "import warnings\n",
    "warnings.filterwarnings('ignore')\n",
    "# Setting global constants to ensure notebook results are reproducible\n",
    "#PARAMETER_CONSTANT = ###"
   ]
  },
  {
   "cell_type": "markdown",
   "id": "ec9c4294",
   "metadata": {},
   "source": [
    "<a id=\"two\"></a>\n",
    "## 2. Loading the Data\n",
    "<a class=\"anchor\" id=\"1.1\"></a>\n",
    "<a href=#cont>Back to Table of Contents</a>\n",
    "\n",
    "---\n",
    "    \n",
    "| ⚡ Description: Loading the data ⚡ |\n",
    "| :--------------------------- |\n",
    "| In this section the provide data is loaded from Kaggle into a DataFrame. |\n",
    "\n",
    "---"
   ]
  },
  {
   "cell_type": "code",
   "execution_count": 66,
   "id": "4ed5fb59",
   "metadata": {},
   "outputs": [],
   "source": [
    "#Loaded train_set data into df_train DataFrame\n",
    "df_train = pd.read_csv('train_set.csv')"
   ]
  },
  {
   "cell_type": "code",
   "execution_count": 67,
   "id": "46c37f37",
   "metadata": {},
   "outputs": [],
   "source": [
    "#Loaded the test_set data into df_test DataFrame\n",
    "df_test = pd.read_csv('test_set.csv')"
   ]
  },
  {
   "cell_type": "markdown",
   "id": "0c20f71b",
   "metadata": {},
   "source": [
    "<a id=\"three\"></a>\n",
    "## 3. Exploratory Data Analysis (EDA)\n",
    "<a class=\"anchor\" id=\"1.1\"></a>\n",
    "<a href=#cont>Back to Table of Contents</a>\n",
    "\n",
    "---\n",
    "    \n",
    "| ⚡ Description: Exploratory data analysis ⚡ |\n",
    "| :--------------------------- |\n",
    "| In this section, an in-depth analysis of all the variables in the DataFrame is carried out by Exploratory Data Analysis. |\n",
    "\n",
    "---\n"
   ]
  },
  {
   "cell_type": "markdown",
   "id": "40a9754c",
   "metadata": {},
   "source": [
    "### Examine the Dataframe by calling the head() function"
   ]
  },
  {
   "cell_type": "code",
   "execution_count": 68,
   "id": "0ce75945",
   "metadata": {},
   "outputs": [
    {
     "data": {
      "text/html": [
       "<div>\n",
       "<style scoped>\n",
       "    .dataframe tbody tr th:only-of-type {\n",
       "        vertical-align: middle;\n",
       "    }\n",
       "\n",
       "    .dataframe tbody tr th {\n",
       "        vertical-align: top;\n",
       "    }\n",
       "\n",
       "    .dataframe thead th {\n",
       "        text-align: right;\n",
       "    }\n",
       "</style>\n",
       "<table border=\"1\" class=\"dataframe\">\n",
       "  <thead>\n",
       "    <tr style=\"text-align: right;\">\n",
       "      <th></th>\n",
       "      <th>lang_id</th>\n",
       "      <th>text</th>\n",
       "    </tr>\n",
       "  </thead>\n",
       "  <tbody>\n",
       "    <tr>\n",
       "      <th>0</th>\n",
       "      <td>xho</td>\n",
       "      <td>umgaqo-siseko wenza amalungiselelo kumaziko ax...</td>\n",
       "    </tr>\n",
       "    <tr>\n",
       "      <th>1</th>\n",
       "      <td>xho</td>\n",
       "      <td>i-dha iya kuba nobulumko bokubeka umsebenzi na...</td>\n",
       "    </tr>\n",
       "    <tr>\n",
       "      <th>2</th>\n",
       "      <td>eng</td>\n",
       "      <td>the province of kwazulu-natal department of tr...</td>\n",
       "    </tr>\n",
       "    <tr>\n",
       "      <th>3</th>\n",
       "      <td>nso</td>\n",
       "      <td>o netefatša gore o ba file dilo ka moka tše le...</td>\n",
       "    </tr>\n",
       "    <tr>\n",
       "      <th>4</th>\n",
       "      <td>ven</td>\n",
       "      <td>khomishini ya ndinganyiso ya mbeu yo ewa maana...</td>\n",
       "    </tr>\n",
       "  </tbody>\n",
       "</table>\n",
       "</div>"
      ],
      "text/plain": [
       "  lang_id                                               text\n",
       "0     xho  umgaqo-siseko wenza amalungiselelo kumaziko ax...\n",
       "1     xho  i-dha iya kuba nobulumko bokubeka umsebenzi na...\n",
       "2     eng  the province of kwazulu-natal department of tr...\n",
       "3     nso  o netefatša gore o ba file dilo ka moka tše le...\n",
       "4     ven  khomishini ya ndinganyiso ya mbeu yo ewa maana..."
      ]
     },
     "execution_count": 68,
     "metadata": {},
     "output_type": "execute_result"
    }
   ],
   "source": [
    "# calling the head function to display the FIVE top records of the data\n",
    "df_train.head()"
   ]
  },
  {
   "cell_type": "markdown",
   "id": "2db6669c",
   "metadata": {},
   "source": [
    "##### from the above cell, we can conclude that;\n",
    "* lang_id - Target Feature\n",
    "* text - Independent Feature"
   ]
  },
  {
   "cell_type": "code",
   "execution_count": 69,
   "id": "15bc6f28",
   "metadata": {},
   "outputs": [
    {
     "data": {
      "text/html": [
       "<div>\n",
       "<style scoped>\n",
       "    .dataframe tbody tr th:only-of-type {\n",
       "        vertical-align: middle;\n",
       "    }\n",
       "\n",
       "    .dataframe tbody tr th {\n",
       "        vertical-align: top;\n",
       "    }\n",
       "\n",
       "    .dataframe thead th {\n",
       "        text-align: right;\n",
       "    }\n",
       "</style>\n",
       "<table border=\"1\" class=\"dataframe\">\n",
       "  <thead>\n",
       "    <tr style=\"text-align: right;\">\n",
       "      <th></th>\n",
       "      <th>index</th>\n",
       "      <th>text</th>\n",
       "    </tr>\n",
       "  </thead>\n",
       "  <tbody>\n",
       "    <tr>\n",
       "      <th>0</th>\n",
       "      <td>1</td>\n",
       "      <td>Mmasepala, fa maemo a a kgethegileng a letlele...</td>\n",
       "    </tr>\n",
       "    <tr>\n",
       "      <th>1</th>\n",
       "      <td>2</td>\n",
       "      <td>Uzakwaziswa ngokufaneleko nakungafuneka eminye...</td>\n",
       "    </tr>\n",
       "    <tr>\n",
       "      <th>2</th>\n",
       "      <td>3</td>\n",
       "      <td>Tshivhumbeo tshi fana na ngano dza vhathu.</td>\n",
       "    </tr>\n",
       "    <tr>\n",
       "      <th>3</th>\n",
       "      <td>4</td>\n",
       "      <td>Kube inja nelikati betingevakala kutsi titsini...</td>\n",
       "    </tr>\n",
       "    <tr>\n",
       "      <th>4</th>\n",
       "      <td>5</td>\n",
       "      <td>Winste op buitelandse valuta.</td>\n",
       "    </tr>\n",
       "  </tbody>\n",
       "</table>\n",
       "</div>"
      ],
      "text/plain": [
       "   index                                               text\n",
       "0      1  Mmasepala, fa maemo a a kgethegileng a letlele...\n",
       "1      2  Uzakwaziswa ngokufaneleko nakungafuneka eminye...\n",
       "2      3         Tshivhumbeo tshi fana na ngano dza vhathu.\n",
       "3      4  Kube inja nelikati betingevakala kutsi titsini...\n",
       "4      5                      Winste op buitelandse valuta."
      ]
     },
     "execution_count": 69,
     "metadata": {},
     "output_type": "execute_result"
    }
   ],
   "source": [
    "# caling the head function to display the Five top records of the data\n",
    "df_test.head()"
   ]
  },
  {
   "cell_type": "markdown",
   "id": "69b88c9c",
   "metadata": {},
   "source": [
    "##### from the test dataset, we have two columns\n",
    "* index\n",
    "* text\n"
   ]
  },
  {
   "cell_type": "markdown",
   "id": "787e995d",
   "metadata": {},
   "source": [
    "#### Check for Null values"
   ]
  },
  {
   "cell_type": "code",
   "execution_count": 70,
   "id": "b04c67c0",
   "metadata": {},
   "outputs": [
    {
     "data": {
      "text/plain": [
       "lang_id    0\n",
       "text       0\n",
       "dtype: int64"
      ]
     },
     "execution_count": 70,
     "metadata": {},
     "output_type": "execute_result"
    }
   ],
   "source": [
    "# check if there are null values in the data\n",
    "df_train.isnull().sum()"
   ]
  },
  {
   "cell_type": "code",
   "execution_count": 71,
   "id": "4bb23237",
   "metadata": {},
   "outputs": [
    {
     "data": {
      "text/plain": [
       "index    0\n",
       "text     0\n",
       "dtype: int64"
      ]
     },
     "execution_count": 71,
     "metadata": {},
     "output_type": "execute_result"
    }
   ],
   "source": [
    "# check if there are null values in the test data provided\n",
    "df_test.isnull().sum()"
   ]
  },
  {
   "cell_type": "markdown",
   "id": "b35478bf",
   "metadata": {},
   "source": [
    "#### From the above cells, no null values was found in our the dataset given"
   ]
  },
  {
   "cell_type": "code",
   "execution_count": 72,
   "id": "e08589d8",
   "metadata": {},
   "outputs": [
    {
     "data": {
      "text/plain": [
       "array(['xho', 'eng', 'nso', 'ven', 'tsn', 'nbl', 'zul', 'ssw', 'tso',\n",
       "       'sot', 'afr'], dtype=object)"
      ]
     },
     "execution_count": 72,
     "metadata": {},
     "output_type": "execute_result"
    }
   ],
   "source": [
    "# check for unique Target features\n",
    "df_train['lang_id'].unique()"
   ]
  },
  {
   "cell_type": "markdown",
   "id": "85044bda",
   "metadata": {},
   "source": [
    "##### From the above, we have the following lang_id and their respective languages\n",
    "#### Language IDs\n",
    "* afr - Afrikaans\n",
    "* eng - English\n",
    "* nbl - isiNdebele\n",
    "* nso - Sepedi\n",
    "* sot - Sesotho\n",
    "* ssw - siSwati\n",
    "* tsn - Setswana\n",
    "* tso - Xitsonga\n",
    "* ven - Tshivenda\n",
    "* xho - isiXhosa\n",
    "* zul - isiZulu"
   ]
  },
  {
   "cell_type": "code",
   "execution_count": 73,
   "id": "98546447",
   "metadata": {},
   "outputs": [
    {
     "name": "stdout",
     "output_type": "stream",
     "text": [
      "length of data is 33000\n"
     ]
    }
   ],
   "source": [
    "# Length of the train dataset\n",
    "print('length of data is', len(df_train))"
   ]
  },
  {
   "cell_type": "code",
   "execution_count": 74,
   "id": "e12d426d",
   "metadata": {},
   "outputs": [
    {
     "name": "stdout",
     "output_type": "stream",
     "text": [
      "length of data is 5682\n"
     ]
    }
   ],
   "source": [
    "# Length of the test dataset\n",
    "print('length of data is', len(df_test))"
   ]
  },
  {
   "cell_type": "code",
   "execution_count": 75,
   "id": "2785144a",
   "metadata": {},
   "outputs": [
    {
     "name": "stdout",
     "output_type": "stream",
     "text": [
      "<class 'pandas.core.frame.DataFrame'>\n",
      "RangeIndex: 33000 entries, 0 to 32999\n",
      "Data columns (total 2 columns):\n",
      " #   Column   Non-Null Count  Dtype \n",
      "---  ------   --------------  ----- \n",
      " 0   lang_id  33000 non-null  object\n",
      " 1   text     33000 non-null  object\n",
      "dtypes: object(2)\n",
      "memory usage: 515.8+ KB\n"
     ]
    }
   ],
   "source": [
    "# Data Information\n",
    "\n",
    "df_train.info()"
   ]
  },
  {
   "cell_type": "code",
   "execution_count": 76,
   "id": "3fb67009",
   "metadata": {},
   "outputs": [
    {
     "data": {
      "text/plain": [
       "lang_id    object\n",
       "text       object\n",
       "dtype: object"
      ]
     },
     "execution_count": 76,
     "metadata": {},
     "output_type": "execute_result"
    }
   ],
   "source": [
    "# Data types of all columns\n",
    "\n",
    "df_train.dtypes"
   ]
  },
  {
   "cell_type": "markdown",
   "id": "6cf8815f",
   "metadata": {},
   "source": [
    "#### Getting the counts of each languages represented in the dataset provided"
   ]
  },
  {
   "cell_type": "code",
   "execution_count": 77,
   "id": "2a4ab6df",
   "metadata": {},
   "outputs": [
    {
     "data": {
      "text/plain": [
       "nbl    3000\n",
       "nso    3000\n",
       "tso    3000\n",
       "eng    3000\n",
       "zul    3000\n",
       "afr    3000\n",
       "ssw    3000\n",
       "tsn    3000\n",
       "sot    3000\n",
       "xho    3000\n",
       "ven    3000\n",
       "Name: lang_id, dtype: int64"
      ]
     },
     "execution_count": 77,
     "metadata": {},
     "output_type": "execute_result"
    }
   ],
   "source": [
    "# calling the value_counts() method to get the number of samples in each sentiment\n",
    "\n",
    "df_train['lang_id'].value_counts()"
   ]
  },
  {
   "cell_type": "markdown",
   "id": "913c843b",
   "metadata": {},
   "source": [
    "*from the above cell, each language has 3000 data samples*"
   ]
  },
  {
   "cell_type": "markdown",
   "id": "56bc2545",
   "metadata": {},
   "source": [
    "#### Visualizing the distribution of languages in the dataset"
   ]
  },
  {
   "cell_type": "code",
   "execution_count": 78,
   "id": "0cd0fc5f",
   "metadata": {},
   "outputs": [
    {
     "data": {
      "text/plain": [
       "<function matplotlib.pyplot.show(close=None, block=None)>"
      ]
     },
     "execution_count": 78,
     "metadata": {},
     "output_type": "execute_result"
    },
    {
     "data": {
      "image/png": "[encoded data removed]",
      "text/plain": [
       "<Figure size 432x288 with 1 Axes>"
      ]
     },
     "metadata": {
      "needs_background": "light"
     },
     "output_type": "display_data"
    }
   ],
   "source": [
    "# Calling the plot method on the train dataframe\n",
    "df_train['lang_id'].value_counts().plot(kind = 'bar', title= 'Distribution of Languages', xlabel='Languages', ylabel='Number of Samples')\n",
    "plt.show # to display the visual"
   ]
  },
  {
   "cell_type": "code",
   "execution_count": 79,
   "id": "edf92834",
   "metadata": {},
   "outputs": [
    {
     "data": {
      "text/plain": [
       "<AxesSubplot:xlabel='lang_id', ylabel='count'>"
      ]
     },
     "execution_count": 79,
     "metadata": {},
     "output_type": "execute_result"
    },
    {
     "data": {
      "image/png": "[encoded data removed]",
      "text/plain": [
       "<Figure size 432x288 with 1 Axes>"
      ]
     },
     "metadata": {
      "needs_background": "light"
     },
     "output_type": "display_data"
    }
   ],
   "source": [
    "# using the seaborn library to create a countplot to display the distribution languages in the dataset\n",
    "sns.countplot(x='lang_id', data=df_train)"
   ]
  },
  {
   "cell_type": "markdown",
   "id": "b9cd5aa3",
   "metadata": {},
   "source": [
    "##### From the above graph, we can see that the language samples are evenly distributed in the dataset"
   ]
  },
  {
   "cell_type": "markdown",
   "id": "2c304bb3",
   "metadata": {},
   "source": [
    "### Summary from EDA\n",
    "    1. The sample data of all the languages represnted in the dataset are evenly distributed.\n",
    "    \n",
    "    2. There are 11 languages represented in the dataset provided.\n",
    "    \n",
    "    3. A total of 33000 data samples were provided in the train dataset.\n",
    "    \n",
    "    4. Null values are absent in the provided dataset."
   ]
  },
  {
   "cell_type": "markdown",
   "id": "4da8beda",
   "metadata": {},
   "source": [
    "<a id=\"four\"></a>\n",
    "## 4. Data Preprocessing\n",
    "<a class=\"anchor\" id=\"1.1\"></a>\n",
    "<a href=#cont>Back to Table of Contents</a>\n",
    "\n",
    "---\n",
    "    \n",
    "| ⚡ Description: Data Preprocessing ⚡ |\n",
    "| :--------------------------- |\n",
    "| In this section the data would be sujected to different text preprocessing approach to aid better perfomance on our model. |\n",
    "\n",
    "---"
   ]
  },
  {
   "cell_type": "code",
   "execution_count": 80,
   "id": "40b81df9",
   "metadata": {},
   "outputs": [],
   "source": [
    "# Select the text and lang_id column for our further analysis\n",
    "train_data = df_train[['text','lang_id']]\n",
    "\n",
    "# select the text column in our test data\n",
    "test_data = df_test['text']"
   ]
  },
  {
   "cell_type": "markdown",
   "id": "315d6467",
   "metadata": {},
   "source": [
    "#### Converting all text data into lower case characters"
   ]
  },
  {
   "cell_type": "code",
   "execution_count": 81,
   "id": "1441c5da",
   "metadata": {},
   "outputs": [
    {
     "data": {
      "text/html": [
       "<div>\n",
       "<style scoped>\n",
       "    .dataframe tbody tr th:only-of-type {\n",
       "        vertical-align: middle;\n",
       "    }\n",
       "\n",
       "    .dataframe tbody tr th {\n",
       "        vertical-align: top;\n",
       "    }\n",
       "\n",
       "    .dataframe thead th {\n",
       "        text-align: right;\n",
       "    }\n",
       "</style>\n",
       "<table border=\"1\" class=\"dataframe\">\n",
       "  <thead>\n",
       "    <tr style=\"text-align: right;\">\n",
       "      <th></th>\n",
       "      <th>text</th>\n",
       "      <th>lang_id</th>\n",
       "    </tr>\n",
       "  </thead>\n",
       "  <tbody>\n",
       "    <tr>\n",
       "      <th>0</th>\n",
       "      <td>umgaqo-siseko wenza amalungiselelo kumaziko ax...</td>\n",
       "      <td>xho</td>\n",
       "    </tr>\n",
       "    <tr>\n",
       "      <th>1</th>\n",
       "      <td>i-dha iya kuba nobulumko bokubeka umsebenzi na...</td>\n",
       "      <td>xho</td>\n",
       "    </tr>\n",
       "    <tr>\n",
       "      <th>2</th>\n",
       "      <td>the province of kwazulu-natal department of tr...</td>\n",
       "      <td>eng</td>\n",
       "    </tr>\n",
       "    <tr>\n",
       "      <th>3</th>\n",
       "      <td>o netefatša gore o ba file dilo ka moka tše le...</td>\n",
       "      <td>nso</td>\n",
       "    </tr>\n",
       "    <tr>\n",
       "      <th>4</th>\n",
       "      <td>khomishini ya ndinganyiso ya mbeu yo ewa maana...</td>\n",
       "      <td>ven</td>\n",
       "    </tr>\n",
       "  </tbody>\n",
       "</table>\n",
       "</div>"
      ],
      "text/plain": [
       "                                                text lang_id\n",
       "0  umgaqo-siseko wenza amalungiselelo kumaziko ax...     xho\n",
       "1  i-dha iya kuba nobulumko bokubeka umsebenzi na...     xho\n",
       "2  the province of kwazulu-natal department of tr...     eng\n",
       "3  o netefatša gore o ba file dilo ka moka tše le...     nso\n",
       "4  khomishini ya ndinganyiso ya mbeu yo ewa maana...     ven"
      ]
     },
     "execution_count": 81,
     "metadata": {},
     "output_type": "execute_result"
    }
   ],
   "source": [
    "# Converting the text column of the train data to lower case characters\n",
    "train_data['text'] = train_data['text'].str.lower()\n",
    "train_data['text'].head()\n",
    "train_data.head()"
   ]
  },
  {
   "cell_type": "code",
   "execution_count": 82,
   "id": "ba63cde9",
   "metadata": {},
   "outputs": [
    {
     "data": {
      "text/plain": [
       "0    mmasepala, fa maemo a a kgethegileng a letlele...\n",
       "1    uzakwaziswa ngokufaneleko nakungafuneka eminye...\n",
       "2           tshivhumbeo tshi fana na ngano dza vhathu.\n",
       "3    kube inja nelikati betingevakala kutsi titsini...\n",
       "4                        winste op buitelandse valuta.\n",
       "Name: text, dtype: object"
      ]
     },
     "execution_count": 82,
     "metadata": {},
     "output_type": "execute_result"
    }
   ],
   "source": [
    "# Converting the text column of the test data to lower case characters\n",
    "test_data = test_data.str.lower()\n",
    "test_data.head()\n"
   ]
  },
  {
   "cell_type": "markdown",
   "id": "0b7a500a",
   "metadata": {},
   "source": [
    "#### Removing Punctuations from Text Data"
   ]
  },
  {
   "cell_type": "code",
   "execution_count": 83,
   "id": "1f89d08c",
   "metadata": {},
   "outputs": [],
   "source": [
    "# Using the string library to import all available punctuations and declaring a variable to store all the punctuations\n",
    "import string\n",
    "english_punctuations = string.punctuation\n",
    "punctuations_list = english_punctuations"
   ]
  },
  {
   "cell_type": "code",
   "execution_count": 84,
   "id": "283f090b",
   "metadata": {},
   "outputs": [],
   "source": [
    "# a function that removes punctuations for a given text\n",
    "def cleaning_punctuations(text):\n",
    "    translator = str.maketrans('', '', punctuations_list)\n",
    "    return text.translate(translator)"
   ]
  },
  {
   "cell_type": "code",
   "execution_count": 85,
   "id": "780c1627",
   "metadata": {},
   "outputs": [
    {
     "data": {
      "text/plain": [
       "32995    popo ya dipolateforomo tse ke go tlisa boetele...\n",
       "32996    modise mosadi na o ntse o sa utlwe hore thaban...\n",
       "32997    closing date for the submission of completed t...\n",
       "32998    nawuphina umntu ofunyenwe enetyala phantsi kwa...\n",
       "32999    mafapha a mang le ona a lokela ho etsa ditlale...\n",
       "Name: text, dtype: object"
      ]
     },
     "execution_count": 85,
     "metadata": {},
     "output_type": "execute_result"
    }
   ],
   "source": [
    "#  Used a lambda function to apply the above  function to the text column in our train data\n",
    "train_data['text']= train_data['text'].apply(lambda x: cleaning_punctuations(x))\n",
    "train_data['text'].tail()"
   ]
  },
  {
   "cell_type": "code",
   "execution_count": 86,
   "id": "c072e64c",
   "metadata": {},
   "outputs": [
    {
     "data": {
      "text/plain": [
       "5677                      you mark your ballot in private\n",
       "5678    ge o ka kgetha ka bowena go se šomiše mofani k...\n",
       "5679    e ka kopo etsa kgetho ya hao ka hloko hobane h...\n",
       "5680    tb ke bokudi ba pmb mme morero o tla lefella t...\n",
       "5681                  vakatjhela iwebhusayidi yethu kuwww\n",
       "Name: text, dtype: object"
      ]
     },
     "execution_count": 86,
     "metadata": {},
     "output_type": "execute_result"
    }
   ],
   "source": [
    "#  Used a lambda function to apply the above  function to the text column in our test data\n",
    "test_data = test_data.apply(lambda x: cleaning_punctuations(x))\n",
    "test_data.tail()"
   ]
  },
  {
   "cell_type": "markdown",
   "id": "1d92b7b1",
   "metadata": {},
   "source": [
    "#### Removing Stop Words from Text Data"
   ]
  },
  {
   "cell_type": "code",
   "execution_count": 87,
   "id": "5675ff54",
   "metadata": {},
   "outputs": [],
   "source": [
    "# # defining the variable to store all stopwords\n",
    "# stopwords_list = stopwords.words('english')"
   ]
  },
  {
   "cell_type": "code",
   "execution_count": 88,
   "id": "0a170f98",
   "metadata": {},
   "outputs": [],
   "source": [
    "# STOPWORDS = set(stopwords_list)\n",
    "\n",
    "# # developed a function that removes stopwords from a text\n",
    "# def cleaning_stopwords(message):\n",
    "#     '''this function takes a in a message as input,\n",
    "#         uses list comprehension to generate a list \n",
    "#         of words in input without stopwords, \n",
    "#         the it is later joined together\n",
    "#     '''\n",
    "#     return \" \".join([word for word in str(message).split() if word not in STOPWORDS])"
   ]
  },
  {
   "cell_type": "code",
   "execution_count": 89,
   "id": "685be875",
   "metadata": {},
   "outputs": [],
   "source": [
    "# # Using lambda function to apply the above function to the message column in our train data\n",
    "# train_data['text'] = train_data['text'].apply(lambda message: cleaning_stopwords(message))\n",
    "# train_data['text'].head()"
   ]
  },
  {
   "cell_type": "code",
   "execution_count": 90,
   "id": "0c801336",
   "metadata": {},
   "outputs": [],
   "source": [
    "# test_data = test_data.apply(lambda message: cleaning_stopwords(message))\n",
    "# test_data.head()"
   ]
  },
  {
   "cell_type": "code",
   "execution_count": 91,
   "id": "e8d36857",
   "metadata": {},
   "outputs": [],
   "source": [
    "# a function that removes repeating characters in a given text\n",
    "def cleaning_redundant_char(text):\n",
    "    cleaned = re.sub(r'(.)1+', r'1', text)\n",
    "    return cleaned"
   ]
  },
  {
   "cell_type": "code",
   "execution_count": 92,
   "id": "eacad172",
   "metadata": {},
   "outputs": [
    {
     "data": {
      "text/plain": [
       "32995    popo ya dipolateforomo tse ke go tlisa boetele...\n",
       "32996    modise mosadi na o ntse o sa utlwe hore thaban...\n",
       "32997    closing date for the submission of completed t...\n",
       "32998    nawuphina umntu ofunyenwe enetyala phantsi kwa...\n",
       "32999    mafapha a mang le ona a lokela ho etsa ditlale...\n",
       "Name: text, dtype: object"
      ]
     },
     "execution_count": 92,
     "metadata": {},
     "output_type": "execute_result"
    }
   ],
   "source": [
    "#  Used a lambda function to apply the above  function to the text column in our train data\n",
    "\n",
    "train_data['text'] = train_data['text'].apply(lambda x: cleaning_redundant_char(x))\n",
    "train_data['text'].tail()"
   ]
  },
  {
   "cell_type": "code",
   "execution_count": 93,
   "id": "525c1b2c",
   "metadata": {},
   "outputs": [
    {
     "data": {
      "text/plain": [
       "5677                      you mark your ballot in private\n",
       "5678    ge o ka kgetha ka bowena go se šomiše mofani k...\n",
       "5679    e ka kopo etsa kgetho ya hao ka hloko hobane h...\n",
       "5680    tb ke bokudi ba pmb mme morero o tla lefella t...\n",
       "5681                  vakatjhela iwebhusayidi yethu kuwww\n",
       "Name: text, dtype: object"
      ]
     },
     "execution_count": 93,
     "metadata": {},
     "output_type": "execute_result"
    }
   ],
   "source": [
    "#  Used a lambda function to apply the above  function to the text column in our test data\n",
    "test_data = test_data.apply(lambda x: cleaning_redundant_char(x))\n",
    "test_data.tail()"
   ]
  },
  {
   "cell_type": "markdown",
   "id": "b7426dcb",
   "metadata": {},
   "source": [
    "#### Removing URLs from Text Data"
   ]
  },
  {
   "cell_type": "code",
   "execution_count": 94,
   "id": "b96ee29f",
   "metadata": {},
   "outputs": [],
   "source": [
    "# a function that removes all URLs in a given text\n",
    "\n",
    "def removing_URLs(data):\n",
    "    cleaned = re.sub('((www.[^s]+)|(https?://[^s]+))',' ',data)\n",
    "    return cleaned"
   ]
  },
  {
   "cell_type": "code",
   "execution_count": 95,
   "id": "31a21c28",
   "metadata": {},
   "outputs": [
    {
     "data": {
      "text/plain": [
       "0    umgaqosiseko wenza amalungiselelo kumaziko axh...\n",
       "1    idha iya kuba nobulumko bokubeka umsebenzi nap...\n",
       "2    the province of kwazulunatal department of tra...\n",
       "3    o netefatša gore o ba file dilo ka moka tše le...\n",
       "4    khomishini ya ndinganyiso ya mbeu yo ewa maana...\n",
       "Name: text, dtype: object"
      ]
     },
     "execution_count": 95,
     "metadata": {},
     "output_type": "execute_result"
    }
   ],
   "source": [
    "#  Used a lambda function to apply the above  function to the text column in our train data\n",
    "\n",
    "train_data['text'] = train_data['text'].apply(lambda x: removing_URLs(x))\n",
    "train_data['text'].head()"
   ]
  },
  {
   "cell_type": "code",
   "execution_count": 96,
   "id": "65ea820f",
   "metadata": {},
   "outputs": [
    {
     "data": {
      "text/plain": [
       "5677                      you mark your ballot in private\n",
       "5678    ge o ka kgetha ka bowena go se šomiše mofani k...\n",
       "5679    e ka kopo etsa kgetho ya hao ka hloko hobane h...\n",
       "5680    tb ke bokudi ba pmb mme morero o tla lefella t...\n",
       "5681                  vakatjhela iwebhusayidi yethu kuwww\n",
       "Name: text, dtype: object"
      ]
     },
     "execution_count": 96,
     "metadata": {},
     "output_type": "execute_result"
    }
   ],
   "source": [
    "#  Used a lambda function to apply the above  function to the text column in our test_data\n",
    "\n",
    "test_data = test_data.apply(lambda x: removing_URLs(x))\n",
    "test_data.tail()"
   ]
  },
  {
   "cell_type": "markdown",
   "id": "2cc35d23",
   "metadata": {},
   "source": [
    "#### Remove Numbers from Text Data"
   ]
  },
  {
   "cell_type": "code",
   "execution_count": 97,
   "id": "81043fce",
   "metadata": {},
   "outputs": [],
   "source": [
    "# a Function that removes numbers from a given text of data\n",
    "def removing_numbers(data):\n",
    "    cleaned = re.sub('[0-9]+', '', data)\n",
    "    return cleaned"
   ]
  },
  {
   "cell_type": "code",
   "execution_count": 98,
   "id": "5a205944",
   "metadata": {},
   "outputs": [
    {
     "data": {
      "text/plain": [
       "0    umgaqosiseko wenza amalungiselelo kumaziko axh...\n",
       "1    idha iya kuba nobulumko bokubeka umsebenzi nap...\n",
       "2    the province of kwazulunatal department of tra...\n",
       "3    o netefatša gore o ba file dilo ka moka tše le...\n",
       "4    khomishini ya ndinganyiso ya mbeu yo ewa maana...\n",
       "Name: text, dtype: object"
      ]
     },
     "execution_count": 98,
     "metadata": {},
     "output_type": "execute_result"
    }
   ],
   "source": [
    "#  Used a lambda function to apply the above  function to the text column in our train data\n",
    "\n",
    "train_data['text'] = train_data['text'].apply(lambda x: removing_numbers(x))\n",
    "train_data['text'].head()"
   ]
  },
  {
   "cell_type": "code",
   "execution_count": 99,
   "id": "c0a70aeb",
   "metadata": {},
   "outputs": [
    {
     "data": {
      "text/plain": [
       "5677                      you mark your ballot in private\n",
       "5678    ge o ka kgetha ka bowena go se šomiše mofani k...\n",
       "5679    e ka kopo etsa kgetho ya hao ka hloko hobane h...\n",
       "5680    tb ke bokudi ba pmb mme morero o tla lefella t...\n",
       "5681                  vakatjhela iwebhusayidi yethu kuwww\n",
       "Name: text, dtype: object"
      ]
     },
     "execution_count": 99,
     "metadata": {},
     "output_type": "execute_result"
    }
   ],
   "source": [
    "#  Used a lambda function to apply the above  function to the text column in our test_data\n",
    "\n",
    "test_data = test_data.apply(lambda x: removing_numbers(x))\n",
    "test_data.tail()"
   ]
  },
  {
   "cell_type": "markdown",
   "id": "99e978e2",
   "metadata": {},
   "source": [
    "#### Tokenization of Data"
   ]
  },
  {
   "cell_type": "code",
   "execution_count": 100,
   "id": "f20da6a0",
   "metadata": {},
   "outputs": [
    {
     "data": {
      "text/plain": [
       "0    [umgaqosiseko, wenza, amalungiselelo, kumaziko...\n",
       "1    [idha, iya, kuba, nobulumko, bokubeka, umseben...\n",
       "2    [the, province, of, kwazulunatal, department, ...\n",
       "3    [o, netefatša, gore, o, ba, file, dilo, ka, mo...\n",
       "4    [khomishini, ya, ndinganyiso, ya, mbeu, yo, ew...\n",
       "Name: text, dtype: object"
      ]
     },
     "execution_count": 100,
     "metadata": {},
     "output_type": "execute_result"
    }
   ],
   "source": [
    "# Tokenization of the tweet message column of our train data\n",
    "tokeniser = TreebankWordTokenizer()\n",
    "train_data['text'] = train_data['text'].apply(tokeniser.tokenize)\n",
    "train_data['text'].head()"
   ]
  },
  {
   "cell_type": "code",
   "execution_count": 101,
   "id": "bffd5ac7",
   "metadata": {},
   "outputs": [
    {
     "data": {
      "text/plain": [
       "0    [mmasepala, fa, maemo, a, a, kgethegileng, a, ...\n",
       "1    [uzakwaziswa, ngokufaneleko, nakungafuneka, em...\n",
       "2    [tshivhumbeo, tshi, fana, na, ngano, dza, vhathu]\n",
       "3    [kube, inja, nelikati, betingevakala, kutsi, t...\n",
       "4                    [winste, op, buitelandse, valuta]\n",
       "Name: text, dtype: object"
      ]
     },
     "execution_count": 101,
     "metadata": {},
     "output_type": "execute_result"
    }
   ],
   "source": [
    "# Tokenization of the tweet message column of our test data\n",
    "tokeniser = TreebankWordTokenizer()\n",
    "test_data = test_data.apply(tokeniser.tokenize)\n",
    "test_data.head()"
   ]
  },
  {
   "cell_type": "markdown",
   "id": "0cc9ed92",
   "metadata": {},
   "source": [
    "<a id=\"five\"></a>\n",
    "## 5. Modelling\n",
    "<a class=\"anchor\" id=\"1.1\"></a>\n",
    "<a href=#cont>Back to Table of Contents</a>\n",
    "\n",
    "---\n",
    "    \n",
    "| ⚡ Description: Modelling ⚡ |\n",
    "| :--------------------------- |\n",
    "| In this section, different models were trained, Evaluated and used to predict classes of our test data |\n",
    "\n",
    "---"
   ]
  },
  {
   "cell_type": "code",
   "execution_count": 102,
   "id": "1c33e8e4",
   "metadata": {},
   "outputs": [],
   "source": [
    "# Seperate the train data into X and y\n",
    "X = train_data.text\n",
    "y = train_data.lang_id"
   ]
  },
  {
   "cell_type": "code",
   "execution_count": 103,
   "id": "48dd72a5",
   "metadata": {},
   "outputs": [],
   "source": [
    "# Using the train_test_split model of sklearn to split our data\n",
    "\n",
    "X_train, X_test, y_train, y_test = train_test_split(X, y, test_size = 0.2, random_state =42)"
   ]
  },
  {
   "cell_type": "code",
   "execution_count": 104,
   "id": "ce86ce45",
   "metadata": {},
   "outputs": [],
   "source": [
    "# Instantiating the TF-IDF vectorizer object to a variable tt\n",
    "tt = TfidfVectorizer(preprocessor=list, tokenizer=list, ngram_range=(1,2),min_df=2, strip_accents = 'ascii', smooth_idf=False)\n",
    "\n",
    "# A function that vectorise a given text of data input\n",
    "def vectorise(X_train, X_test, test_data):\n",
    "    '''\n",
    "    This function takes in three input, two from our train data and one from the test data,\n",
    "    fits and transforms the data.\n",
    "    The function returns an output of the vectorised inputs\n",
    "    '''\n",
    "    tt.fit(X_train)\n",
    "    X_train = tt.transform(X_train)\n",
    "    X_test = tt.transform(X_test)\n",
    "    test_data = tt.transform(test_data)\n",
    "    \n",
    "    return X_train, X_test, test_data"
   ]
  },
  {
   "cell_type": "code",
   "execution_count": 105,
   "id": "757fc50e",
   "metadata": {},
   "outputs": [],
   "source": [
    "# Apply the vectorise funtion on X_train, X_test, test_data\n",
    "X_train, X_test, test_data = vectorise(X_train, X_test, test_data)"
   ]
  },
  {
   "cell_type": "code",
   "execution_count": 106,
   "id": "68e6349e",
   "metadata": {},
   "outputs": [],
   "source": [
    "# a funtion that evaluates the model based on classifcation report of SKlearn\n",
    "\n",
    "def model_Evaluate(model):\n",
    "    '''\n",
    "    This functions the input of a model name, \n",
    "    get the predictions for X_test,\n",
    "    and evaluates the perfomance of the model with the classification report\n",
    "    '''\n",
    "    y_pred = model.predict(X_test) # get predict values for Test dataset\n",
    "\n",
    "    return print(classification_report(y_test, y_pred)) # Print the evaluation metrics for the dataset.\n",
    "    "
   ]
  },
  {
   "cell_type": "markdown",
   "id": "311a23f5",
   "metadata": {},
   "source": [
    "### First Model - Bernoulli Naive Bayes?  \n",
    "\n",
    "Bernoulli Naive Bayes. BernoulliNB implements the naive Bayes training and classification algorithms for data that is distributed according to multivariate Bernoulli distributions; i.e., there may be multiple features but each one is assumed to be a binary-valued (Bernoulli, boolean) variable."
   ]
  },
  {
   "cell_type": "code",
   "execution_count": 121,
   "id": "96ad3ec9",
   "metadata": {
    "scrolled": true
   },
   "outputs": [
    {
     "name": "stdout",
     "output_type": "stream",
     "text": [
      "              precision    recall  f1-score   support\n",
      "\n",
      "         afr       1.00      1.00      1.00       583\n",
      "         eng       1.00      1.00      1.00       615\n",
      "         nbl       1.00      0.98      0.99       583\n",
      "         nso       1.00      1.00      1.00       625\n",
      "         sot       1.00      1.00      1.00       618\n",
      "         ssw       1.00      1.00      1.00       584\n",
      "         tsn       1.00      1.00      1.00       598\n",
      "         tso       1.00      1.00      1.00       561\n",
      "         ven       1.00      1.00      1.00       634\n",
      "         xho       1.00      0.99      1.00       609\n",
      "         zul       0.96      1.00      0.98       590\n",
      "\n",
      "    accuracy                           1.00      6600\n",
      "   macro avg       1.00      1.00      1.00      6600\n",
      "weighted avg       1.00      1.00      1.00      6600\n",
      "\n"
     ]
    }
   ],
   "source": [
    "# instantiating the model, training the model, calling the evaluation functon on the model and getting predictions from the model\n",
    "BNBmodel = BernoulliNB()\n",
    "BNBmodel.fit(X_train, y_train) \n",
    "model_Evaluate(BNBmodel) \n",
    "y_pred1 = BNBmodel.predict(test_data) "
   ]
  },
  {
   "cell_type": "markdown",
   "id": "b32a93ec",
   "metadata": {},
   "source": [
    "### Second Model - LinearSVC\n",
    "\n",
    "The objective of a Linear SVC (Support Vector Classifier) is to fit to the data you provide, returning a \"best fit\" hyperplane that divides, or categorizes, your data. From there, after getting the hyperplane, you can then feed some features to your classifier to see what the \"predicted\" class is."
   ]
  },
  {
   "cell_type": "code",
   "execution_count": 126,
   "id": "71165ace",
   "metadata": {
    "scrolled": true
   },
   "outputs": [
    {
     "name": "stdout",
     "output_type": "stream",
     "text": [
      "              precision    recall  f1-score   support\n",
      "\n",
      "         afr       1.00      1.00      1.00       583\n",
      "         eng       1.00      1.00      1.00       615\n",
      "         nbl       0.99      1.00      1.00       583\n",
      "         nso       1.00      1.00      1.00       625\n",
      "         sot       1.00      1.00      1.00       618\n",
      "         ssw       1.00      1.00      1.00       584\n",
      "         tsn       1.00      1.00      1.00       598\n",
      "         tso       1.00      1.00      1.00       561\n",
      "         ven       1.00      1.00      1.00       634\n",
      "         xho       1.00      1.00      1.00       609\n",
      "         zul       0.99      0.99      0.99       590\n",
      "\n",
      "    accuracy                           1.00      6600\n",
      "   macro avg       1.00      1.00      1.00      6600\n",
      "weighted avg       1.00      1.00      1.00      6600\n",
      "\n"
     ]
    }
   ],
   "source": [
    "# instantiating the model, training the model, calling the evaluation functon on the model and getting predictions from the model\n",
    "SVCmodel = LinearSVC()\n",
    "SVCmodel.fit(X_train, y_train)\n",
    "model_Evaluate(SVCmodel)\n",
    "y_pred2 = SVCmodel.predict(test_data)"
   ]
  },
  {
   "cell_type": "markdown",
   "id": "df4d0896",
   "metadata": {},
   "source": [
    "### Third Model - Multinomial Naive Bayes\n",
    "\n",
    "The Multinomial Naive Bayes algorithm is a Bayesian learning approach popular in Natural Language Processing (NLP). The program guesses the tag of a text, such as an email or a newspaper story, using the Bayes theorem. It calculates each tag's likelihood for a given sample and outputs the tag with the greatest chance."
   ]
  },
  {
   "cell_type": "code",
   "execution_count": 123,
   "id": "0017f0a2",
   "metadata": {},
   "outputs": [
    {
     "name": "stdout",
     "output_type": "stream",
     "text": [
      "              precision    recall  f1-score   support\n",
      "\n",
      "         afr       1.00      1.00      1.00       583\n",
      "         eng       0.99      1.00      1.00       615\n",
      "         nbl       0.99      0.99      0.99       583\n",
      "         nso       1.00      1.00      1.00       625\n",
      "         sot       1.00      1.00      1.00       618\n",
      "         ssw       1.00      1.00      1.00       584\n",
      "         tsn       1.00      1.00      1.00       598\n",
      "         tso       1.00      1.00      1.00       561\n",
      "         ven       1.00      1.00      1.00       634\n",
      "         xho       1.00      1.00      1.00       609\n",
      "         zul       0.99      0.99      0.99       590\n",
      "\n",
      "    accuracy                           1.00      6600\n",
      "   macro avg       1.00      1.00      1.00      6600\n",
      "weighted avg       1.00      1.00      1.00      6600\n",
      "\n"
     ]
    }
   ],
   "source": [
    "# instantiating the model, training the model, calling the evaluation functon on the model and getting predictions from the model\n",
    "\n",
    "from sklearn.naive_bayes import MultinomialNB\n",
    "M_NB = MultinomialNB()\n",
    "M_NB.fit(X_train, y_train)\n",
    "model_Evaluate(M_NB)\n",
    "y_pred3= M_NB.predict(test_data)"
   ]
  },
  {
   "cell_type": "markdown",
   "id": "b7d2e8b8",
   "metadata": {},
   "source": [
    "##### Note: After submitting the predictions from the base models, the third model (Multinomial Naive Bayes) out performed others with a score of 0.95124\n",
    "\n",
    "##### However, with hyper parameter tuning, we should achieve a better result"
   ]
  },
  {
   "cell_type": "markdown",
   "id": "16a615ed",
   "metadata": {},
   "source": [
    "### Hyper Parameter Tuning with GridSearchCv\n",
    "\n",
    "##### This would help us to identify best performing parameters for the model"
   ]
  },
  {
   "cell_type": "code",
   "execution_count": 56,
   "id": "ac8b31a9",
   "metadata": {},
   "outputs": [],
   "source": [
    "from sklearn.model_selection import GridSearchCV # Importing the needed library\n",
    " \n",
    "# defining parameter range\n",
    "param_grid = {'alpha' : [0.1, 1.0, 10.0], 'fit_prior': [True, False]}\n",
    " \n",
    "# instantiating the object\n",
    "grid = GridSearchCV(MultinomialNB(), param_grid, refit = True, verbose = 3)"
   ]
  },
  {
   "cell_type": "code",
   "execution_count": 57,
   "id": "d753ec0e",
   "metadata": {
    "scrolled": true
   },
   "outputs": [
    {
     "name": "stdout",
     "output_type": "stream",
     "text": [
      "Fitting 5 folds for each of 6 candidates, totalling 30 fits\n",
      "[CV 1/5] END .........alpha=0.1, fit_prior=True;, score=0.999 total time=   0.3s\n",
      "[CV 2/5] END .........alpha=0.1, fit_prior=True;, score=0.999 total time=   0.2s\n",
      "[CV 3/5] END .........alpha=0.1, fit_prior=True;, score=0.998 total time=   0.1s\n",
      "[CV 4/5] END .........alpha=0.1, fit_prior=True;, score=1.000 total time=   0.2s\n",
      "[CV 5/5] END .........alpha=0.1, fit_prior=True;, score=0.999 total time=   0.2s\n",
      "[CV 1/5] END ........alpha=0.1, fit_prior=False;, score=0.999 total time=   0.1s\n",
      "[CV 2/5] END ........alpha=0.1, fit_prior=False;, score=0.999 total time=   0.2s\n",
      "[CV 3/5] END ........alpha=0.1, fit_prior=False;, score=0.998 total time=   0.1s\n",
      "[CV 4/5] END ........alpha=0.1, fit_prior=False;, score=1.000 total time=   0.2s\n",
      "[CV 5/5] END ........alpha=0.1, fit_prior=False;, score=0.999 total time=   0.2s\n",
      "[CV 1/5] END .........alpha=1.0, fit_prior=True;, score=0.999 total time=   0.2s\n",
      "[CV 2/5] END .........alpha=1.0, fit_prior=True;, score=1.000 total time=   0.2s\n",
      "[CV 3/5] END .........alpha=1.0, fit_prior=True;, score=0.999 total time=   0.1s\n",
      "[CV 4/5] END .........alpha=1.0, fit_prior=True;, score=1.000 total time=   0.1s\n",
      "[CV 5/5] END .........alpha=1.0, fit_prior=True;, score=0.999 total time=   0.2s\n",
      "[CV 1/5] END ........alpha=1.0, fit_prior=False;, score=0.999 total time=   0.2s\n",
      "[CV 2/5] END ........alpha=1.0, fit_prior=False;, score=1.000 total time=   0.2s\n",
      "[CV 3/5] END ........alpha=1.0, fit_prior=False;, score=0.999 total time=   0.1s\n",
      "[CV 4/5] END ........alpha=1.0, fit_prior=False;, score=1.000 total time=   0.1s\n",
      "[CV 5/5] END ........alpha=1.0, fit_prior=False;, score=0.999 total time=   0.2s\n",
      "[CV 1/5] END ........alpha=10.0, fit_prior=True;, score=0.995 total time=   0.2s\n",
      "[CV 2/5] END ........alpha=10.0, fit_prior=True;, score=0.997 total time=   0.2s\n",
      "[CV 3/5] END ........alpha=10.0, fit_prior=True;, score=0.997 total time=   0.2s\n",
      "[CV 4/5] END ........alpha=10.0, fit_prior=True;, score=0.997 total time=   0.1s\n",
      "[CV 5/5] END ........alpha=10.0, fit_prior=True;, score=0.996 total time=   0.2s\n",
      "[CV 1/5] END .......alpha=10.0, fit_prior=False;, score=0.996 total time=   0.2s\n",
      "[CV 2/5] END .......alpha=10.0, fit_prior=False;, score=0.996 total time=   0.2s\n",
      "[CV 3/5] END .......alpha=10.0, fit_prior=False;, score=0.997 total time=   0.2s\n",
      "[CV 4/5] END .......alpha=10.0, fit_prior=False;, score=0.996 total time=   0.2s\n",
      "[CV 5/5] END .......alpha=10.0, fit_prior=False;, score=0.996 total time=   0.2s\n"
     ]
    },
    {
     "data": {
      "text/plain": [
       "GridSearchCV(estimator=MultinomialNB(),\n",
       "             param_grid={'alpha': [0.1, 1.0, 10.0], 'fit_prior': [True, False]},\n",
       "             verbose=3)"
      ]
     },
     "execution_count": 57,
     "metadata": {},
     "output_type": "execute_result"
    }
   ],
   "source": [
    "# fitting the GridsearchCv object to the X_train and y_train data\n",
    "grid.fit(X_train, y_train)"
   ]
  },
  {
   "cell_type": "code",
   "execution_count": 58,
   "id": "7bc3dc09",
   "metadata": {},
   "outputs": [
    {
     "name": "stdout",
     "output_type": "stream",
     "text": [
      "{'alpha': 0.1, 'fit_prior': True}\n"
     ]
    }
   ],
   "source": [
    "# print best parameter after tuning\n",
    "print(grid.best_params_)"
   ]
  },
  {
   "cell_type": "code",
   "execution_count": 59,
   "id": "4508781d",
   "metadata": {},
   "outputs": [
    {
     "name": "stdout",
     "output_type": "stream",
     "text": [
      "MultinomialNB(alpha=0.1)\n"
     ]
    }
   ],
   "source": [
    "# print how our model looks after hyper-parameter tuning\n",
    "print(grid.best_estimator_)"
   ]
  },
  {
   "cell_type": "markdown",
   "id": "e0c77f2b",
   "metadata": {},
   "source": [
    "#### Implementing the results from hyper parameter tuning on Multinomial Naive Bayes Model"
   ]
  },
  {
   "cell_type": "code",
   "execution_count": 131,
   "id": "0e28eb9e",
   "metadata": {},
   "outputs": [
    {
     "name": "stdout",
     "output_type": "stream",
     "text": [
      "              precision    recall  f1-score   support\n",
      "\n",
      "         afr       1.00      1.00      1.00       583\n",
      "         eng       1.00      1.00      1.00       615\n",
      "         nbl       1.00      1.00      1.00       583\n",
      "         nso       1.00      1.00      1.00       625\n",
      "         sot       1.00      1.00      1.00       618\n",
      "         ssw       1.00      1.00      1.00       584\n",
      "         tsn       1.00      1.00      1.00       598\n",
      "         tso       1.00      1.00      1.00       561\n",
      "         ven       1.00      1.00      1.00       634\n",
      "         xho       1.00      1.00      1.00       609\n",
      "         zul       1.00      1.00      1.00       590\n",
      "\n",
      "    accuracy                           1.00      6600\n",
      "   macro avg       1.00      1.00      1.00      6600\n",
      "weighted avg       1.00      1.00      1.00      6600\n",
      "\n"
     ]
    }
   ],
   "source": [
    "# instantiating the model, training the model, calling the evaluation functon on the model and getting predictions from the model\n",
    "\n",
    "from sklearn.naive_bayes import MultinomialNB\n",
    "M_NB = MultinomialNB(alpha = 0.1)\n",
    "M_NB.fit(X_train, y_train)\n",
    "model_Evaluate(M_NB)\n",
    "y_pred4 = M_NB.predict(test_data)"
   ]
  },
  {
   "cell_type": "markdown",
   "id": "e33c3d45",
   "metadata": {},
   "source": [
    "#### Funtion to generate a Kaggle Submission"
   ]
  },
  {
   "cell_type": "code",
   "execution_count": 132,
   "id": "77ec7873",
   "metadata": {},
   "outputs": [],
   "source": [
    "def kaggle_submission(y_pred_value):\n",
    "    '''\n",
    "    This  function takes predicted values as input, \n",
    "    creates a dictionary of the kaggle submission,\n",
    "    converts the dictionary into a pandas DataFrame and\n",
    "    converts to a csv format\n",
    "    '''\n",
    "    index = df_test['index']\n",
    "    my_dict = {'index': index,'lang_id':y_pred_value}\n",
    "    new_pandas = pd.DataFrame(my_dict)\n",
    "    return new_pandas.to_csv('file_1.csv',index=False)"
   ]
  },
  {
   "cell_type": "code",
   "execution_count": 133,
   "id": "52cf2528",
   "metadata": {},
   "outputs": [],
   "source": [
    "# calling the kaggle  submission function to create csv file for submission\n",
    "kaggle_submission(y_pred4)"
   ]
  }
 ],
 "metadata": {
  "kernelspec": {
   "display_name": "Python 3",
   "language": "python",
   "name": "python3"
  },
  "language_info": {
   "codemirror_mode": {
    "name": "ipython",
    "version": 3
   },
   "file_extension": ".py",
   "mimetype": "text/x-python",
   "name": "python",
   "nbconvert_exporter": "python",
   "pygments_lexer": "ipython3",
   "version": "3.8.8"
  }
 },
 "nbformat": 4,
 "nbformat_minor": 5
}
